{
 "cells": [
  {
   "cell_type": "markdown",
   "metadata": {
    "id": "G0BcK0H_G1Iu"
   },
   "source": [
    "# **AP155 Lab Assignment**\n",
    "## Module 2: Solution of Linear and Nonlinear Equations\n",
    "\n",
    "_Instructions_: Answer each problem as completely as you can. Discuss **all** your answers as clearly and concisely as possible.\n",
    "\n",
    "_Scoring Criteria_: 50% - *correctness of code*; 50% - *discussion of the code and results*. Maximum score is **100 points**.\n",
    "\n"
   ]
  },
  {
   "cell_type": "markdown",
   "metadata": {
    "id": "PeHZ9kP8JaVR"
   },
   "source": [
    "### Student Information\n",
    "\n",
    "_Full Name (Last Name, First Name)_: Mark Joseph Luminarias\\\n",
    "_Student No._:2019-08483\\\n",
    "_Section_: THU-HX-3"
   ]
  },
  {
   "cell_type": "markdown",
   "metadata": {
    "id": "Hc183co-J4eI"
   },
   "source": [
    "### Submission Information\n",
    "\n",
    "_Date and Time Submitted (most recent upload)_:\n",
    "\n",
    "**HONOR PLEDGE** I affirm that I have upheld the highest principles of honesty and integrity in my academic work and that this lab assignment is my own work.\n",
    "\n",
    "**Sign here with your full name:**"
   ]
  },
  {
   "cell_type": "markdown",
   "metadata": {
    "id": "4LUwfsfMBmvd"
   },
   "source": [
    "### Grading Information (c/o Lab Instructor)\n",
    "\n",
    "TOTAL SCORE: **XX**/100\n",
    "\n",
    "Score breakdown:\n",
    "* Problem 1 - XX/30\n",
    "* Problem 2 - XX/30\n",
    "* Problem 3 - XX/40\n",
    "\n"
   ]
  },
  {
   "cell_type": "markdown",
   "metadata": {
    "id": "kBX9EyMLOnXj"
   },
   "source": [
    "### PROBLEM 1\n",
    "\n",
    "**Solve for eigenvalues and eigenvectors of a symmetric matrix**\n",
    "\n",
    "1.1. Use numpy's $\\tt linalg$ package to find the eigenvalues and eigenvectors of the ff. symmetrix matrix *(15 pts.)*:\n",
    "\n",
    "$ \\begin{equation}\n",
    "{\\bf A} =\n",
    "\\begin{pmatrix}\n",
    "8 & -2 & -20 \\\\\n",
    "-2 & -3 & -9 \\\\\n",
    "-20 & -9 & -3\n",
    "\\end{pmatrix} \\end{equation} $"
   ]
  },
  {
   "cell_type": "code",
   "execution_count": 28,
   "metadata": {
    "id": "GABjwlXCR97i"
   },
   "outputs": [
    {
     "name": "stdout",
     "output_type": "stream",
     "text": [
      "The eigenvalues of A is [-21.99606195  23.83584674   0.16021522] .\n",
      "Where the corresponding eigenvectors are \n",
      " [[ 0.52496527  0.76748685  0.36793396]\n",
      " [ 0.40892672  0.15169114 -0.89987151]\n",
      " [ 0.74645187 -0.62285932  0.2342133 ]] .\n"
     ]
    }
   ],
   "source": [
    "#using numpy's linalg package\n",
    "from numpy import array\n",
    "from numpy.linalg import eig\n",
    "A = array([[8,-2,-20],\n",
    "           [-2,-3,-9],\n",
    "           [-20, -9, -3]],float)\n",
    "x, V = eig(A)\n",
    "print(\"The eigenvalues of A is\",x,\".\")\n",
    "print(\"Where the corresponding eigenvectors are\",\"\\n\",V,\".\")"
   ]
  },
  {
   "cell_type": "markdown",
   "metadata": {},
   "source": [
    "1.2. Check your answer numerically; that is, check that $\\bf AV = VD$, where the $N$ x $N$ matrix $\\bf V$ has the eigenvectors as its columns and $\\bf D$ is the diagonal matrix with the eigenvalues $\\lambda_i$ as its diagonal entries. *(15 pts.)*"
   ]
  },
  {
   "cell_type": "code",
   "execution_count": 63,
   "metadata": {},
   "outputs": [
    {
     "name": "stdout",
     "output_type": "stream",
     "text": [
      "The product of matrix multiplication A and V is \n",
      " [[-11.54716868  18.29369893   0.05894862]\n",
      " [ -8.99477756   3.61568676  -0.14417311]\n",
      " [-16.4190016  -14.8463793    0.03752454]] . \n",
      "\n",
      "The product of matrix multiplication V and D is \n",
      " [[-11.54716868  18.29369893   0.05894862]\n",
      " [ -8.99477756   3.61568676  -0.14417311]\n",
      " [-16.4190016  -14.8463793    0.03752454]] . \n",
      "\n",
      "To check whether the elements of AV is equal to VD: \n",
      " [[False  True False]\n",
      " [ True False False]\n",
      " [ True False False]]\n"
     ]
    }
   ],
   "source": [
    "#using numpy's linalg package\n",
    "import numpy as np\n",
    "from numpy.linalg import eig\n",
    "A = array([[8,-2,-20],\n",
    "           [-2,-3,-9],\n",
    "           [-20, -9, -3]],float)\n",
    "x, V = eig(A)\n",
    "D = array([[x[0], 0, 0,],\n",
    "         [0, x[1], 0],\n",
    "         [0, 0, x[2]]])\n",
    "\n",
    "AV = np.matmul(A,V)\n",
    "VD = np.matmul(V,D)\n",
    "print(\"The product of matrix multiplication A and V is\",\"\\n\",AV,\".\",\"\\n\")\n",
    "print(\"The product of matrix multiplication V and D is\",\"\\n\",VD,\".\",\"\\n\")\n",
    "print(\"To check whether the elements of AV is equal to VD:\",\"\\n\",AV == VD)"
   ]
  },
  {
   "cell_type": "markdown",
   "metadata": {},
   "source": [
    "inequality"
   ]
  },
  {
   "cell_type": "code",
   "execution_count": 62,
   "metadata": {},
   "outputs": [
    {
     "name": "stdout",
     "output_type": "stream",
     "text": [
      "[[ 1.77635684e-15  0.00000000e+00  2.05391260e-15]\n",
      " [ 0.00000000e+00 -2.22044605e-15 -1.99840144e-15]\n",
      " [ 0.00000000e+00 -8.88178420e-15 -5.55111512e-15]]\n"
     ]
    }
   ],
   "source": [
    "print(AV-VD)"
   ]
  },
  {
   "cell_type": "markdown",
   "metadata": {
    "id": "HceOjNu-VfN9"
   },
   "source": [
    "### PROBLEM 2\n",
    "\n",
    "**Solve a nonlinear equation using the relaxation method**\n",
    "\n",
    "Consider the equation $x=1- e^{-cx}$, where $c$ is a known parameter and $x$ is unknown. This equation arises in a variety of situations, including the physics of contact processes, mathematical models of epidemics, and the theory of random graphs."
   ]
  },
  {
   "cell_type": "markdown",
   "metadata": {},
   "source": [
    "2.1. Write a program to solve this equation for $x$ using the relaxation method for the case $c = 2$. Calculate your solution to an accuracy of at least $10^{-6}$. *(10 pts.)*"
   ]
  },
  {
   "cell_type": "code",
   "execution_count": 25,
   "metadata": {
    "id": "p28JF-OQYock",
    "scrolled": true
   },
   "outputs": [
    {
     "name": "stdout",
     "output_type": "stream",
     "text": [
      "0.7968305046795713\n"
     ]
    }
   ],
   "source": [
    "#Using Newton-Rapson Method\n",
    "import numpy as np\n",
    "from numpy import exp\n",
    "\n",
    "accuracy = 1e-6\n",
    "\n",
    "def f(x):\n",
    "    return 1 - exp(-x) - x\n",
    "def f_1(x):\n",
    "    return exp(-x) - 1\n",
    "\n",
    "def r(x):\n",
    "    x = 1.0\n",
    "    delta = 1.0\n",
    "    while abs(delta)> accuracy: \n",
    "        delta = f(x)/f_1(x)\n",
    "        x -= delta\n",
    "    return x\n",
    "\n",
    "print(x)"
   ]
  },
  {
   "cell_type": "markdown",
   "metadata": {},
   "source": [
    "2.2. Modify your program to calculate the solution for values of $c$ from 0 to 3 in steps of 0.01. *(10 pts.)*"
   ]
  },
  {
   "cell_type": "code",
   "execution_count": 34,
   "metadata": {
    "scrolled": false
   },
   "outputs": [
    {
     "name": "stdout",
     "output_type": "stream",
     "text": [
      "[0.0, 3.183439004808143e-17, -4.580740349628313e-17, -3.5210024383864164e-17, 4.025439584680255e-17, -2.5647038053901124e-17, -3.9545021734865004e-17, 4.7906818648692515e-18, -5.209331290490201e-17, 4.6127075040696897e-17, -4.1769130231742924e-17, -4.7823940114398377e-17, 1.0765312303569327e-17, -5.7007831979276574e-18, 1.282834177943496e-16, 2.5867062720166248e-16, 5.483469483771278e-16, 1.362296059261096e-15, 3.291545310256063e-15, 7.596374430093172e-15, 1.6674401549654906e-14, -5.600277076206529e-17, 1.116517022424616e-17, -1.5209571109124808e-17, -6.976756276073943e-17, -2.52204059817776e-17, 5.31920208924352e-17, -5.464881336926716e-17, -2.807264722737401e-17, -1.488725669268984e-17, -1.881065441864411e-17, -7.315083511821383e-17, 2.6103867436628303e-17, 5.256560724343678e-17, 2.5679947886935943e-17, -1.1996727990616653e-17, -4.512403205590355e-17, -3.415928019939552e-17, -4.993884076298823e-17, -4.382545119012269e-17, -3.7031507660470733e-17, -4.951507448081609e-17, 4.759804329296474e-17, -6.588246624212988e-17, -6.496056228250126e-17, -2.8779282761195965e-17, -3.0293736311856026e-18, 8.765908567804537e-17, 2.3667019378509575e-16, 2.8648823474578797e-16, 7.053415140656174e-16, 1.3797453217863389e-15, 3.1949058787008317e-15, 6.60034510516417e-15, 1.3798874036223069e-14, 2.881640116107786e-14, 5.952442864603469e-14, 1.225527448154166e-13, 2.496565737277498e-13, 2.308425627140751e-17, 4.22284049998716e-17, -9.612883133394373e-17, 1.3684226825217656e-16, -1.4796026513346747e-16, -8.043848713503356e-17, -1.1446085204077896e-16, -1.5668729357842875e-16, -1.4065371498648183e-16, -1.3617884805577182e-16, -4.2279981882009495e-17, 1.0586013740346402e-16, -2.062080079317576e-17, -6.948811054989188e-17, -1.521479043756658e-17, 2.77522022076548e-16, 7.671711307279758e-16, 1.7286279621905691e-15, 5.81130261428241e-15, 2.2419495635091837e-14, 8.3606600802206e-14, 3.0787626135625636e-13, 1.1348549261139447e-12, 2.3354292638187418e-17, 1.8187481461377671e-16, -1.615795608351661e-16, 1.6307048023144431e-16, 2.821223569645669e-16, -1.004056932448456e-16, 1.0485323925036805e-15, 4.4472669677233355e-15, 6.67145275346256e-14, 9.82184754894643e-13, -6.726798082455676e-16, -9.799931617207587e-17, -6.477047936238193e-16, 1.777543385652077e-14, 4.675691911268696e-12, -8.102689812367925e-16, 1.8244534537405208e-12, 7.94083104462122e-13, 8.109449619453316e-07, 0.01973641044020277, 0.03895768387277355, 0.057681302999559245, 0.07592400852494277, 0.093701837072906, 0.11103015687192834, 0.12792370129016306, 0.14439660042692964, 0.1604624108482932, 0.17613414363181176, 0.19142429077924142, 0.20634485015392873, 0.22090734900948011, 0.2351228662093272, 0.24900205322237406, 0.2625551539522112, 0.27579202353012283, 0.2887221460454012, 0.30135465136341477, 0.3136983310412175, 0.3257616534078909, 0.3375527778589649, 0.3490795684116546, 0.3603496065646178, 0.3713702035030531, 0.3821484116872716, 0.39269103586093124, 0.4030046435083693, 0.4130955748034624, 0.4229699520612949, 0.43263368873658664, 0.442092497985632, 0.4513519008180402, 0.46041723386065597, 0.4692936567547563, 0.47798615920768134, 0.48649956770806985, 0.4948385519504384, 0.5030076309387036, 0.5110111788305949, 0.5188534305102996, 0.5265384869096408, 0.5340703200966292, 0.5414527781315402, 0.5486895897140095, 0.5557843686246963, 0.5627406179741187, 0.5695617342679291, 0.5762510112977043, 0.5828116438658132, 0.5892467313524632, 0.5955592811325746, 0.6017522118497151, 0.6078283565539369, 0.6137904657099931, 0.6196412100820536, 0.6253831835007293, 0.6310189055163855, 0.6365508239517974, 0.6419813173416998, 0.6473126972847527, 0.6525472106981416, 0.6576870419842364, 0.6627343151125065, 0.6676910956204747, 0.6725593925373202, 0.677341160233547, 0.6820383001999667, 0.6866526627590909, 0.6911860487118653, 0.6956402109225437, 0.7000168558443572, 0.7043176449885125, 0.708544196338919, 0.7126980857149482, 0.7167808480844017, 0.7207939788287696, 0.7247389349627658, 0.728617136310025, 0.7324299666367665, 0.7361787747451433, 0.7398648755279159, 0.743489550986014, 0.7470540512104815, 0.7505595953302301, 0.7540073724269604, 0.7573985424185554, 0.7607342369121848, 0.7640155600283103, 0.7672435891967251, 0.7704193759257146, 0.773543946545373, 0.7766183029260729, 0.7796434231730333, 0.7826202622978987, 0.785549752868196, 0.788432805635505, 0.7912703101431379, 0.7940631353140943, 0.7968121300200206, 0.7995181236318786, 0.8021819265529924, 0.8048043307351208, 0.807386110178171, 0.8099280214141484, 0.8124308039759078, 0.8148951808512547, 0.8173218589229196, 0.8197115293949038, 0.822064868205685, 0.8243825364287418, 0.8266651806608407, 0.8289134333985174, 0.8311279134031592, 0.8333092260550817, 0.8354579636969849, 0.8375747059671433, 0.8396600201226921, 0.8417144613533332, 0.8437385730857977, 0.845732887279366, 0.847697924712753, 0.8496341952626395, 0.8515421981741365, 0.85342242232344, 0.8552753464729416, 0.8571014395190358, 0.85890116073287, 0.8606749599942595, 0.862423278018994, 0.8641465465797479, 0.8658451887207979, 0.8675196189667486, 0.8691702435254567, 0.8707974604853357, 0.8724016600072211, 0.8739832245109684, 0.8755425288569444, 0.8770799405225763, 0.8785958197741092, 0.8800905198337228, 0.8815643870421471, 0.8830177610169196, 0.8844509748064143, 0.8858643550397722, 0.887258222072859, 0.8886328901303682, 0.8899886674441878, 0.891325856388141, 0.8926447536092101, 0.8939456501553495, 0.895228831599986, 0.8964945781633075, 0.8977431648304336, 0.898974861466558, 0.9001899329291544, 0.9013886391773277, 0.9025712353783961, 0.9037379720117843, 0.9048890949703018, 0.9060248456588854, 0.9071454610908769, 0.9082511739819036, 0.9093422128414353, 0.9104188020620777, 0.9114811620066691, 0.9125295090932418, 0.9135640558779069, 0.9145850111357218, 0.9155925799395941, 0.91658696373728, 0.9175683604265248, 0.9185369644284016, 0.9194929667588936, 0.9204365550987703, 0.9213679138618025, 0.9222872242613622, 0.923194664375451, 0.9240904092101976, 0.9249746307618677, 0.9258474980774251, 0.9267091773136819, 0.927559831795077, 0.9283996220701158, 0.9292287059665123, 0.9300472386450608, 0.9308553726522751, 0.9316532579718259, 0.9324410420748084, 0.9332188699688687, 0.9339868842462202, 0.9347452251305781, 0.9354940305230396, 0.9362334360469364, 0.936963575091687, 0.937684578855673, 0.9383965763881639, 0.9390996946303167, 0.9397940584552703, 0.9404797907073597]\n"
     ]
    },
    {
     "data": {
      "image/png": "[encoded data removed]",
      "text/plain": [
       "<Figure size 640x480 with 1 Axes>"
      ]
     },
     "metadata": {},
     "output_type": "display_data"
    }
   ],
   "source": [
    "#Using Newton-Rapson Method\n",
    "import numpy as np\n",
    "from numpy import exp,linspace\n",
    "import matplotlib.pyplot as plt\n",
    "\n",
    "accuracy = 1e-6\n",
    "\n",
    "def f(c,x):\n",
    "    return 1 - exp(-c*x) - x\n",
    "def f_1(c,x):\n",
    "    return c*exp(-c*x) - 1\n",
    "\n",
    "def r(c,x):\n",
    "    x = 0.5\n",
    "    delta = 1.0\n",
    "    while abs(delta)> accuracy: \n",
    "        delta = f(c,x)/f_1(c,x)\n",
    "        x -= delta\n",
    "    return x\n",
    "\n",
    "low_lim = 0.0\n",
    "up_lim = 3.0\n",
    "steps = 300\n",
    "\n",
    "c_arr = linspace(low_lim, up_lim, steps+1)\n",
    "x_roots = []\n",
    "for c in c_arr:\n",
    "    x_roots.append(r(c,x))\n",
    "print(x_roots)\n",
    "\n",
    "plt.plot(c_arr,x_roots)\n",
    "plt.show()\n",
    "    "
   ]
  },
  {
   "cell_type": "markdown",
   "metadata": {},
   "source": [
    "2.3. Make a plot of $x$ as a function of $c$. Describe the different regimes that you see. *(10 pts.)*"
   ]
  },
  {
   "cell_type": "markdown",
   "metadata": {},
   "source": [
    "## 2.3 Description"
   ]
  },
  {
   "cell_type": "markdown",
   "metadata": {
    "id": "BY5x-mZsYoqG"
   },
   "source": [
    "### PROBLEM 3\n",
    "\n",
    "**Physics Application: Calculating the Lagrange point**\n",
    "\n",
    "_Refer to Exercise 6.16 of the Newman text._ The $L_1$ Lagrange point is the point between the Earth and the Moon at which a satellite will orbit the Earth in perfect synchrony with the Moon, staying always in between the two.\n",
    "\n",
    "Assuming circular orbits, and assuming that the Earth is much more massive than either the Moon or the satellite, the distance $r$ from the center of the Earth to the $L_1$ point satisfies\n",
    "$$ \\begin{equation}\n",
    "\\frac{GM}{r^2} - \\frac{Gm}{(R-r)^2} = \\omega^2 r,\n",
    "\\end{equation} $$\n",
    "where $R$ is the distance from the Earth to the Moon, $M$ and $m$ are the Earth and Moon masses, $G$ is Newton's gravitational constant, and $\\omega$ is the angular velocity of both the Moon and the satellite."
   ]
  },
  {
   "cell_type": "markdown",
   "metadata": {
    "id": "LlDDXIZ46CKU"
   },
   "source": [
    "Use Newton's method to solve for the distance r from the Earth to the $L_1$ point. Compute a solution accurate to at least four significant figures."
   ]
  },
  {
   "cell_type": "markdown",
   "metadata": {},
   "source": [
    "We can impose the relation:\n",
    "$$ r \\propto R $$\n",
    "which means that $r$ is directly proportional to $R$ satisfying the equality:\n",
    "$$ r = xR $$\n",
    "where $x$ is the proportional constant."
   ]
  },
  {
   "cell_type": "markdown",
   "metadata": {},
   "source": [
    "Hence, the equation becomes\n",
    "$$ \\begin{equation}\n",
    "\\frac{GM}{(xR)^2} - \\frac{Gm}{(R-xR)^2} = \\omega^2 xR\n",
    "\\end{equation} $$\n",
    "\n",
    "Rearranging we get,\n",
    "$$ \\begin{align}\n",
    "\\frac{GM}{(x)^2} - \\frac{Gm}{(1-x)^2} &= \\omega^2 R^3 x \\\\\n",
    "(GM)(1-x)^2 - Gmx^2 &= \\omega^2 R^3 x^3(1-x)^2 \\\\\n",
    "\\end{align} $$\n",
    "\n",
    "We treat this as a function f of argument x where we should get its roots ($f(x)=0$).\n",
    "$$ \\begin{align}\n",
    "f(x) = \\omega^2 R^3 (x^3(1-x)^2) - GM(1-x)^2 + Gmx^2 \\\\\n",
    "\\end{align} $$\n",
    "\n",
    "Using Newton-Rapson Method, we are also required to solve for the first derivative of the function:\n",
    "$$ \\begin{align}\n",
    "f^{1}(x) = \\omega^2 R^3 (5x^4-8x^3+3x^2) + GM(2x - 2) + 2Gmx\\\\\n",
    "\\end{align} $$\n"
   ]
  },
  {
   "cell_type": "code",
   "execution_count": 26,
   "metadata": {},
   "outputs": [
    {
     "name": "stdout",
     "output_type": "stream",
     "text": [
      "The constant coefficient is 0.8484581077997451\n",
      "Therefore, the distance of Lagrange point L1 is 326147296.638222 meters\n"
     ]
    }
   ],
   "source": [
    "import numpy as np\n",
    "G = 6.674e-11 #m^(3)kg^(-1)s^(-2)\n",
    "M = 5.974e24 #kg\n",
    "m = 7.348e22 #kg\n",
    "R = 3.844e8 #m\n",
    "w = 2.662e-6 #s^(-1)\n",
    "\n",
    "def f(x):\n",
    "    return (w**2)*(R**3)*(x**3)*(1-x)**2 - G*M*(1-x)**2 + G*m*x**2\n",
    "#for first derivative of f(x)\n",
    "def f_1(x):\n",
    "    return (w**2)*(R**3)*(5*x**4 - 8*x**3 + 3*x**2) + G*M*(2*x - 2) + 2*G*m*x\n",
    "\n",
    "accuracy = 1e-4\n",
    "x = 1.5\n",
    "delta = 1.0\n",
    "while abs(delta)>accuracy:\n",
    "    delta = f(x)/f_1(x)\n",
    "    x -= delta\n",
    "print(\"The constant coefficient is\", x)\n",
    "\n",
    "r = x*R\n",
    "\n",
    "print(\"Therefore, the distance of Lagrange point L1 is\",r,\"meters\")"
   ]
  },
  {
   "cell_type": "code",
   "execution_count": null,
   "metadata": {},
   "outputs": [],
   "source": []
  }
 ],
 "metadata": {
  "colab": {
   "provenance": [
    {
     "file_id": "1FJlZnhC4nq-8ag5P6s8R5x9AryccJwSV",
     "timestamp": 1598775074680
    }
   ]
  },
  "kernelspec": {
   "display_name": "Python 3 (ipykernel)",
   "language": "python",
   "name": "python3"
  },
  "language_info": {
   "codemirror_mode": {
    "name": "ipython",
    "version": 3
   },
   "file_extension": ".py",
   "mimetype": "text/x-python",
   "name": "python",
   "nbconvert_exporter": "python",
   "pygments_lexer": "ipython3",
   "version": "3.11.4"
  }
 },
 "nbformat": 4,
 "nbformat_minor": 1
}
