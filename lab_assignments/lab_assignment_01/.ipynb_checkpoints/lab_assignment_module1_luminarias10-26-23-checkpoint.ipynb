{
 "cells": [
  {
   "cell_type": "markdown",
   "metadata": {
    "id": "G0BcK0H_G1Iu"
   },
   "source": [
    "# **AP155 Lab Assignment**\n",
    "## Module 1: Integrals and Derivatives\n",
    "\n",
    "_Instructions_: Answer each problem as completely as you can. Discuss **all** your answers as clearly and concisely as possible.\n",
    "\n",
    "_Scoring Criteria_: 50% - *correctness of code*; 50% - *discussion of the code and results*. Maximum score is **100 points**.\n",
    "\n",
    "\n"
   ]
  },
  {
   "cell_type": "markdown",
   "metadata": {
    "id": "PeHZ9kP8JaVR"
   },
   "source": [
    "### Student Information\n",
    "\n",
    "_Full Name_: Mark Joseph Luminarias \\\n",
    "_Student No._: 2019-08483 \\\n",
    "_Section_: THU-HX-3"
   ]
  },
  {
   "cell_type": "markdown",
   "metadata": {
    "id": "Hc183co-J4eI"
   },
   "source": [
    "### Submission Information\n",
    "\n",
    "_Date and Time Submitted (most recent upload)_:\n",
    "\n",
    "**HONOR PLEDGE** I affirm that I have upheld the highest principles of honesty and integrity in my academic work and that this lab assignment is my own work.\n",
    "\n",
    "**Sign here with your full name: MARK JOSEPH LUMINARIAS**"
   ]
  },
  {
   "cell_type": "markdown",
   "metadata": {
    "id": "X1UGsRpW-eQs"
   },
   "source": [
    "### Grading Information (c/o Lab Instructor)\n",
    "\n",
    "TOTAL SCORE: **XX**/100\n",
    "\n",
    "Score breakdown:\n",
    "* Problem 1 - 24/30\n",
    "* Problem 2 - 30/30\n",
    "* Problem 3 - 30/40\n",
    "\n",
    "_Date and Time Scored (MM/DD/YYYY HH:MM AM/PM):_"
   ]
  },
  {
   "cell_type": "markdown",
   "metadata": {
    "id": "LxWuqiCFMsEh"
   },
   "source": [
    "### PROBLEM 1\n",
    "**Integration using the trapezoidal rule and Simpson's rule**\n",
    "\n",
    "Calculate the integral of the function $ 2x^4 + 3x^2 + 4x + 5$ from $x=0$ to $x=5$.\n",
    "\n",
    "1. Do the numerical calculation using the trapezoidal rule with 10, 100, and 1,000 slices. Describe each step of the calculation clearly and concisely. *(10 pts.)*\n",
    "\n",
    "2. What are the percentage errors of your answers in (1)? *(10 pts.)*\n",
    "\n",
    "3. Repeat the calculation using Simpson's rule with 10, 100, and 1,000 slices. Describe each step of the calculation clearly and concisely. *(5 pts.)*\n",
    "\n",
    "4. What are the percentage errors of your answers in (3)? How do they compare with the results from (1) for the same number of slices? *(5 pts.)*"
   ]
  },
  {
   "cell_type": "markdown",
   "metadata": {},
   "source": [
    "### Answer:"
   ]
  },
  {
   "cell_type": "code",
   "execution_count": 64,
   "metadata": {
    "id": "hMqWOsbIMoUh"
   },
   "outputs": [
    {
     "name": "stdout",
     "output_type": "stream",
     "text": [
      "For Trapezoid Rule with slices of N = 10 , the answer is 1471.4375 with an error of -21.458333333333332 .\n",
      "For Trapezoid Rule with slices of N = 100 , the answer is 1450.2145812500003 with an error of -0.21458333333333338 .\n",
      "For Trapezoid Rule with slices of N = 1000 , the answer is 1450.0021458331234 with an error of -0.0021458333333333334 .\n"
     ]
    }
   ],
   "source": [
    "#Trapezoidal Rule\n",
    "import numpy as np\n",
    "\n",
    "def f(x):\n",
    "    return 2*x**4 + 3*x**2 + 4*x + 5\n",
    "a = 0.0\n",
    "b = 5.0\n",
    "\n",
    "#define integration\n",
    "def integ_trap(N,a,b):\n",
    "    h = (b-a)/N\n",
    "    \n",
    "    s = (f(a)+f(b))/2\n",
    "    for k in range (1,N):\n",
    "        s += f(a+k*h)\n",
    "    s = s*h\n",
    "    return (s)\n",
    "\n",
    "N_arr = np.array([10, 100, 1000])\n",
    "s_arr = np.zeros(len(N_arr))\n",
    "\n",
    "#For Error, where g is the derivative of f wrt x\n",
    "def g(x):\n",
    "    return 8*x**3 + 6*x + 4\n",
    "h_arr = np.array((b-a)/N_arr)\n",
    "err = ((h_arr**2)*(g(a)-g(b))/12)\n",
    "err_arr = np.array(err)\n",
    "\n",
    "for k in np.arange(len(N_arr)):\n",
    "    s_arr[k] = integ_trap(N_arr[k],a,b)\n",
    "       \n",
    "    print(\"For Trapezoid Rule with slices of N =\",N_arr[k],\", the answer is\",s_arr[k], \"with an error of\" ,err_arr[k],\".\")"
   ]
  },
  {
   "cell_type": "markdown",
   "metadata": {},
   "source": [
    "<span style=\"color:blue\"> This is absolute error, not percent error. </span>"
   ]
  },
  {
   "cell_type": "code",
   "execution_count": 68,
   "metadata": {},
   "outputs": [
    {
     "name": "stdout",
     "output_type": "stream",
     "text": [
      "For Simpson's rule with slices of N = 10 , the answer is 1450.0833333333333 with an error of -0.08333333333333333 .\n",
      "For Simpson's rule with slices of N = 100 , the answer is 1450.0000083333337 with an error of -8.333333333333335e-06 .\n",
      "For Simpson's rule with slices of N = 1000 , the answer is 1450.000000000834 with an error of -8.333333333333332e-10 .\n"
     ]
    }
   ],
   "source": [
    "#For Simpson's Rule\n",
    "import numpy as np\n",
    "\n",
    "def f(x):\n",
    "    return 2*x**4 + 3*x**2 + 4*x + 5\n",
    "a = 0.0\n",
    "b = 5.0\n",
    "\n",
    "def integ_simp(N,a,b):\n",
    "    h = (b-a)/N\n",
    "    \n",
    "    s = f(a) + f(b)\n",
    "    for k in range (1,N,2): #for odd values of k\n",
    "        s += 4*f(a+k*h)\n",
    "    for k in range (2,N,2): #for even values of k\n",
    "        s += 2*f(a+k*h)\n",
    "    s = (s*h)/3\n",
    "    return(s)\n",
    "\n",
    "N_arr = np.array([10,100,1000])\n",
    "s_arr = np.zeros(len(N_arr))\n",
    "\n",
    "#For Error, where g is the derivative of f wrt x\n",
    "def g(x):\n",
    "    return 48*x\n",
    "h_arr = np.array((b-a)/N_arr)\n",
    "err = ((h_arr**4)*(g(a)-g(b))/180)\n",
    "err_arr = np.array(err)\n",
    "\n",
    "for k in np.arange(len(N_arr)):\n",
    "    s_arr[k] = integ_simp(N_arr[k], a, b)\n",
    "        \n",
    "    print(\"For Simpson's rule with slices of N =\",N_arr[k],\",\",\"the answer is\", s_arr[k],\"with an error of\",err_arr[k],\".\")"
   ]
  },
  {
   "cell_type": "markdown",
   "metadata": {},
   "source": [
    "#### Simpson's rule shows a closer approximation compared to trapezoidal rule. As N gets multiplied by 10 the answer gets closer and closer to a higher degree."
   ]
  },
  {
   "cell_type": "markdown",
   "metadata": {
    "id": "m2a6sg90R-NX"
   },
   "source": [
    "### PROBLEM 2\n",
    "\n",
    "**Integration using Gaussian quadrature**\n",
    "\n",
    "Calculate the integral from Problem 1 using the Gaussian quadrature method: $ 2x^4 + 3x^2 + 4x + 5$ from $x=0$ to $x=5$.\n",
    "\n",
    "1. Define the function $\\tt gaussxw$ from Appendix E of the Newman text (and run the cell). *(10 pts.)*\n",
    "\n",
    "2. Calculate the integral using the $\\tt gaussxw$ function in (1) and number of slices $N = 3$. Describe each step in the calculation clearly and concisely. *(20 pts.)*"
   ]
  },
  {
   "cell_type": "code",
   "execution_count": 6,
   "metadata": {
    "id": "YO_PDJ4VIVs5"
   },
   "outputs": [],
   "source": [
    "#First we wefine gausswx\n",
    "from numpy import ones, copy, cos, tan, pi, linspace\n",
    "\n",
    "def gaussxw(N):\n",
    "    #Initial approximation to roots of the Legendre polynomial\n",
    "    a = linspace(3,4*N-1,N)/(4*N+2)\n",
    "    x = cos(pi*a+1/(8*N*N*tan(a)))\n",
    "    \n",
    "    #For finding the roots using Newton's method\n",
    "    epsilon = 1e-15\n",
    "    delta = 1.0\n",
    "    while delta>epsilon:\n",
    "        p0 = ones(N,float)\n",
    "        p1 = copy(x)\n",
    "        for k in range(1,N):\n",
    "            p0,p1 = p1,((2*k+1)*x*p1-k*p0)/(k+1)\n",
    "        dp = (N+1)*(p0-x*p1)/(1-x*x)\n",
    "        dx = p1/dp\n",
    "        x -= dx\n",
    "        delta = max(abs(dx))\n",
    "    \n",
    "    #Calculate the weights\n",
    "    w = 2*(N+1)*(N+1)/(N*N*(1-x*x)*dp*dp)\n",
    "    \n",
    "    return x,w\n",
    "\n",
    "def gaussxwab(N,a,b):\n",
    "    x,w = gaussxw(N)\n",
    "    return 0.5*(b-a)*x+0.5*(b+a),0.5*(b-a)*w"
   ]
  },
  {
   "cell_type": "code",
   "execution_count": 40,
   "metadata": {},
   "outputs": [
    {
     "name": "stdout",
     "output_type": "stream",
     "text": [
      "1450.000000000002\n"
     ]
    }
   ],
   "source": [
    "def f(x):\n",
    "    return 2*x**4 + 3*x**2 + 4*x + 5\n",
    "a = 0.0\n",
    "b = 5.0\n",
    "N = 3\n",
    "\n",
    "x,w = gaussxw(N)\n",
    "xp = 0.5*(b-a)*x + 0.5*(b+a)\n",
    "wp = 0.5*(b-a)*w\n",
    "\n",
    "s = 0.0\n",
    "for k in range(N):\n",
    "    s += wp[k]*f(xp[k])\n",
    "\n",
    "print(s)"
   ]
  },
  {
   "cell_type": "markdown",
   "metadata": {
    "id": "HceOjNu-VfN9"
   },
   "source": [
    "### PROBLEM 3\n",
    "\n",
    "**Physics Application: Anharmonic Oscillator**\n",
    "\n",
    "_Refer to Exercise 5.10 of the Newman text._ Consider an anharmonic oscillator with potential $V(x)$ symmetric about $x = 0$. Let us set our anharmonic oscillator going with amplitude $a$. That is, at $t = 0$ we release it from rest at position $x = a$ and it swings back towards the origin. Then at $t = 0$ we have $dx/dt = 0$ and the equation for its total energy becomes $E = V(a)$, i.e., the total energy of the particle is given in terms of the amplitude.\n",
    "\n",
    "When the particle reaches the origin for the first time, it has gone through one quarter of a period of the oscillator. The period $T$ is given by: $$ T = \\sqrt{8m} \\int_0^a \\frac{dx}{\\sqrt{V(a)-V(x)}}. $$\n",
    "\n",
    "1. Suppose the potential is $V(x) = x^4$ and the mass of the particle is $m = 1$. Write a Python function that calculates the period of the oscillator for given amplitude a using Gaussian quadrature with $N = 20$ points. Describe each step clearly and concisely. *(20 pts.)*\n",
    "\n",
    "2. Use your function to make a graph of the period for amplitudes ranging from $a = 0$ to $a = 2$. Describe the behavior you find and explain these results clearly and concisely. *(20 pts.)*"
   ]
  },
  {
   "cell_type": "markdown",
   "metadata": {
    "id": "p28JF-OQYock"
   },
   "source": [
    "### Answer:\n",
    "For $V(x) = x^4, V(a) = a^4$ and $m=1$ the period $T$ is expressed as \n",
    "$$ T = \\sqrt{8} \\int_0^a \\dfrac{dx}{\\sqrt{a^4 - x^4}}.$$"
   ]
  },
  {
   "cell_type": "code",
   "execution_count": 7,
   "metadata": {},
   "outputs": [
    {
     "name": "stdout",
     "output_type": "stream",
     "text": [
      "1.8240470420216075\n"
     ]
    }
   ],
   "source": [
    "from numpy import sqrt\n",
    "\n",
    "#using the code for Gaussian Quadrature\n",
    "def f(a,x):\n",
    "    return sqrt(8/(a**4-x**4))\n",
    "N = 20\n",
    "\n",
    "#Since there's no given a (upper integral limit and amplitude) and b(lower integral limit),\n",
    "#a will b will serve as an input\n",
    "a = float(input(\"Enter the amplitude and upper integral limit, a: \"))\n",
    "b = float(input(\"Enter the lower integral limit, b: \"))\n",
    "\n",
    "x,w = gaussxw(N)\n",
    "xp = 0.5*(a-b)*x + 0.5*(a+b)\n",
    "wp = 0.5*(a-b)*w\n",
    "\n",
    "s = 0.0\n",
    "for k in range(N):\n",
    "    s += wp[k]*f(a,xp[k])\n",
    "\n",
    "print(s)"
   ]
  },
  {
   "cell_type": "code",
   "execution_count": 5,
   "metadata": {},
   "outputs": [
    {
     "data": {
      "image/png": "[encoded data removed]",
      "text/plain": [
       "<Figure size 640x480 with 1 Axes>"
      ]
     },
     "metadata": {},
     "output_type": "display_data"
    },
    {
     "data": {
      "image/png": "[encoded data removed]",
      "text/plain": [
       "<Figure size 640x480 with 1 Axes>"
      ]
     },
     "metadata": {},
     "output_type": "display_data"
    }
   ],
   "source": [
    "import numpy as np\n",
    "from numpy import sqrt\n",
    "from matplotlib import pyplot as plt\n",
    "\n",
    "def f(a,x):\n",
    "    return (8/(a**4-x**4))\n",
    "x = np.linspace(-5,5)\n",
    "\n",
    "#for f(0,x) the graph diverges\n",
    "#it would be wise to graph this function separately.\n",
    "plt.plot(x,f(0,x), 'r')\n",
    "plt.xlabel(\"x\")\n",
    "plt.ylabel(\"Period (T)\")\n",
    "\n",
    "plt.show()\n",
    "\n",
    "\n",
    "plt.plot(x,f(1,x), 'g')\n",
    "plt.plot(x,f(2,x), 'b')\n",
    "#f(a=3,x) is only an extention to support the description of the graph behavior\n",
    "plt.plot(x,f(3,x), 'r')\n",
    "plt.xlabel(\"x\")\n",
    "plt.ylabel(\"Period (T)\")\n",
    "plt.show()\n"
   ]
  },
  {
   "cell_type": "markdown",
   "metadata": {},
   "source": [
    "As the amplitude $a$ goes higher it converges to zero. But when $a$ approaches to zero it divergest to negative infinity. "
   ]
  },
  {
   "cell_type": "markdown",
   "metadata": {},
   "source": [
    "<span style=\"color:blue\"> This is only a description. The question also asks for an explanation. </span>"
   ]
  },
  {
   "cell_type": "markdown",
   "metadata": {},
   "source": [
    "<span style=\"color:blue\"> What is the second graph trying to convey? What is being plotted is not the period. Suppose t(x) is the time it takes to start at x from rest and reach x = 0. The plot is 1/4 t'(x). </span>"
   ]
  },
  {
   "cell_type": "code",
   "execution_count": null,
   "metadata": {},
   "outputs": [],
   "source": []
  }
 ],
 "metadata": {
  "colab": {
   "provenance": []
  },
  "kernelspec": {
   "display_name": "Python 3 (ipykernel)",
   "language": "python",
   "name": "python3"
  },
  "language_info": {
   "codemirror_mode": {
    "name": "ipython",
    "version": 3
   },
   "file_extension": ".py",
   "mimetype": "text/x-python",
   "name": "python",
   "nbconvert_exporter": "python",
   "pygments_lexer": "ipython3",
   "version": "3.10.9"
  }
 },
 "nbformat": 4,
 "nbformat_minor": 1
}
