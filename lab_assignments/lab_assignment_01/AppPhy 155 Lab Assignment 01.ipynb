{
 "cells": [
  {
   "cell_type": "markdown",
   "id": "4d93c116",
   "metadata": {},
   "source": [
    "# AppPhy 155 Module 1 Notes + Lab"
   ]
  },
  {
   "cell_type": "code",
   "execution_count": 18,
   "id": "be66ba88",
   "metadata": {},
   "outputs": [
    {
     "name": "stdout",
     "output_type": "stream",
     "text": [
      "4.50656\n"
     ]
    }
   ],
   "source": [
    "def f(x):\n",
    "    return x**4 - 2*x +1\n",
    "N=10 \n",
    "a=0.0\n",
    "b=2.0\n",
    "h=(b-a)/N\n",
    "\n",
    "s = 0.5*f(a) + 0.5*f(b)\n",
    "for k in range (1,N):\n",
    "    s+= f(a+k*h)\n",
    "\n",
    "print(h*s)"
   ]
  },
  {
   "cell_type": "markdown",
   "id": "f0e7bafc",
   "metadata": {},
   "source": [
    "## Trapezoid Rule"
   ]
  },
  {
   "cell_type": "code",
   "execution_count": 17,
   "id": "56a77b7b",
   "metadata": {},
   "outputs": [
    {
     "name": "stdout",
     "output_type": "stream",
     "text": [
      "2.422\n"
     ]
    }
   ],
   "source": [
    "import math\n",
    "I = 4.4\n",
    "err = round(100*(h*s - I)/I, 3)\n",
    "print(err)"
   ]
  },
  {
   "cell_type": "markdown",
   "id": "104f264f",
   "metadata": {},
   "source": [
    "### For Problem 1.1"
   ]
  },
  {
   "cell_type": "code",
   "execution_count": 24,
   "id": "fe2b147f",
   "metadata": {},
   "outputs": [
    {
     "name": "stdout",
     "output_type": "stream",
     "text": [
      "1471.4375\n"
     ]
    }
   ],
   "source": [
    "def f(x):\n",
    "    return 2*x**4 + 3*x**2 + 4*x + 5\n",
    "N=10\n",
    "a=0.0\n",
    "b=5.0\n",
    "h=(b-a)/N\n",
    "\n",
    "s = 0.5*f(a) + 0.5*f(b)\n",
    "for k in range (1,N):\n",
    "    s+= f(a+k*h)\n",
    "    \n",
    "print(h*s)"
   ]
  },
  {
   "cell_type": "code",
   "execution_count": 21,
   "id": "85c49b78",
   "metadata": {},
   "outputs": [
    {
     "name": "stdout",
     "output_type": "stream",
     "text": [
      "1450.2145812500003\n"
     ]
    }
   ],
   "source": [
    "def f(x):\n",
    "    return 2*x**4 + 3*x**2 + 4*x + 5\n",
    "N=100\n",
    "a=0.0\n",
    "b=5.0\n",
    "h=(b-a)/N\n",
    "\n",
    "s = 0.5*f(a) + 0.5*f(b)\n",
    "for k in range (1,N):\n",
    "    s+= f(a+k*h)\n",
    "    \n",
    "print(h*s)"
   ]
  },
  {
   "cell_type": "code",
   "execution_count": 22,
   "id": "7b707f50",
   "metadata": {},
   "outputs": [
    {
     "name": "stdout",
     "output_type": "stream",
     "text": [
      "1450.0021458331234\n"
     ]
    }
   ],
   "source": [
    "def f(x):\n",
    "    return 2*x**4 + 3*x**2 + 4*x + 5\n",
    "N=1000\n",
    "a=0.0\n",
    "b=5.0\n",
    "h=(b-a)/N\n",
    "\n",
    "s = 0.5*f(a) + 0.5*f(b)\n",
    "for k in range (1,N):\n",
    "    s+= f(a+k*h)\n",
    "    \n",
    "print(h*s)"
   ]
  },
  {
   "cell_type": "code",
   "execution_count": null,
   "id": "67e321d9",
   "metadata": {},
   "outputs": [],
   "source": [
    "## For Simpsons Rule"
   ]
  }
 ],
 "metadata": {
  "kernelspec": {
   "display_name": "Python 3 (ipykernel)",
   "language": "python",
   "name": "python3"
  },
  "language_info": {
   "codemirror_mode": {
    "name": "ipython",
    "version": 3
   },
   "file_extension": ".py",
   "mimetype": "text/x-python",
   "name": "python",
   "nbconvert_exporter": "python",
   "pygments_lexer": "ipython3",
   "version": "3.11.4"
  }
 },
 "nbformat": 4,
 "nbformat_minor": 5
}
