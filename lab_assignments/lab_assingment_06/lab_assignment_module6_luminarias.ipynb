{
 "cells": [
  {
   "cell_type": "markdown",
   "metadata": {
    "id": "G0BcK0H_G1Iu"
   },
   "source": [
    "# **AP155 Lab Assignment**\n",
    "## Module 6: Random Process and Monte Carlo Methods\n",
    "\n",
    "_Instructions_: Answer each problem as completely as you can. Discuss **all** your answers as clearly and concisely as possible.\n",
    "\n",
    "_Scoring Criteria_: 50% - *correctness of code*; 50% - *discussion of the code and results*. Maximum score is **100 points**.\n"
   ]
  },
  {
   "cell_type": "markdown",
   "metadata": {
    "id": "PeHZ9kP8JaVR"
   },
   "source": [
    "### Student Information\n",
    "\n",
    "_Full Name (Last Name, First Name)_: \\\n",
    "_Student No._:\\\n",
    "_Section_:"
   ]
  },
  {
   "cell_type": "markdown",
   "metadata": {
    "id": "Hc183co-J4eI"
   },
   "source": [
    "### Submission Information\n",
    "\n",
    "_Date and Time Submitted (most recent upload)_:\n",
    "\n",
    "**HONOR PLEDGE** I affirm that I have upheld the highest principles of honesty and integrity in my academic work and that this lab assignment is my own work.\n",
    "\n",
    "**Sign here with your full name:**"
   ]
  },
  {
   "cell_type": "markdown",
   "metadata": {
    "id": "c4UEpIRtGbM2"
   },
   "source": [
    "### Grading Information (c/o Lab Instructor)\n",
    "\n",
    "TOTAL SCORE: **[]**/100\n",
    "\n",
    "Score breakdown:\n",
    "* Problem 1 - []/100\n",
    "\n",
    "_Date and Time Scored (MM/DD/YYYY HH:MM AM/PM):_"
   ]
  },
  {
   "cell_type": "markdown",
   "metadata": {
    "id": "LxWuqiCFMsEh"
   },
   "source": [
    "### PROBLEM 1\n",
    "\n",
    "**The Ising model**\n",
    "\n",
    "_Refer to Exercise 10.9 in the Newman text._ The Ising model is a theoretical model of a magnet. The magnetic potential energy due to the interaction of two dipoles is proportional to their dot product, but in the Ising model this simplifies to just the product $s_i s_j$ for spins on sites $i$ and $j$ of the lattice, since the spins are one-dimensional scalars, not vectors. Then the actual energy of interaction is $-Js_i s_j$, where $J$ is a positive interaction constant. The minus sign ensures that the in- teractions are ferromagnetic, meaning the energy is lower when dipoles are lined up. A ferromagnetic interaction implies that the material will magnetize if given the chance.\n",
    "\n",
    "Normally it is assumed that spins interact only with those that are immediately adjacent to them on the lattice, which gives a total energy for the entire system equal to\n",
    "$$ E = -J \\sum_{\\langle ij \\rangle} s_i s_j,$$\n",
    "where the notation $\\langle ij \\rangle$ indicates a sum over pairs $i,j$ that are adjacent on the lattice. On the square lattice we use in this exercise each spin has four adjacent neighbors with which it interacts, except for the spins at the edges of the lattice, which have either two or three neighbors.\n",
    "\n",
    "Perform a Markov chain Monte Carlo simulation of the Ising model on the square lattice for a system of 20 x 20 spins. You will need to set up variables to hold the value ±1 of the spin on each lattice site, probably using a two-dimensional integer array, and then take the following steps.\n",
    "\n",
    "1. Write a function to calculate the total energy of the system, as given by the equation above. That is, for a given array of values of the spins, go through every pair of adjacent spins and add up the contributions $s_i s_j$ from all of them, then multiply by $-J$. Hint 1: Each unique pair of adjacent spins crops up only once in the sum. Thus there is a term $-Js_1s_2$ if spins 1 and 2 are adjacent to one another, but you do not also need a term $-Js_2s_1$. Hint 2: To make your final program to run in a reasonable amount of time, you will find it helpful if you can work out a way to calculate the energy using Python's ability to do arithmetic with entire arrays at once. If you do the calculation step by step, your program will be significantly slower. *(25 pts.)*\n",
    "\n",
    "2. Now use your function as the basis for a Metropolis-style simulation of the Ising model with $J = 1$ and temperature $T = 1$ in units where the Boltzmann constant $k_B$ is also 1. Initially set the spin variables randomly to ±1, so that on average about a half of them are up and a half down, giving a total magneti- zation of roughly zero. Then choose a spin at random, flip it, and calculate the new energy after it is flipped, and hence also the change in energy as a result of the flip. Then decide whether to accept the flip using the Metropolis acceptance formula, Eq. (10.60). If the move is rejected you will have to flip the spin back to where it was. Otherwise you keep the flipped spip. Now repeat this process for many moves. *(25 pts.)*\n",
    "\n",
    "3. Make a plot of the total magnetization $M = \\sum_i s_i$ of the system as a function of time for a million Monte Carlo steps. You should see that the system develops a \"spontaneous magnetization,\" a nonzero value of the overall magnetization. Hint: While you are working on your program, do shorter runs, of maybe ten thousand steps at a time. Once you have it working properly, do a longer run of a million steps to get the final results. *(25 pts.)*\n",
    "\n",
    "4. Run your program several times and observe the sign of the magnetization that develops, positive or negative. Describe what you find and give a brief explana- tion of what is happening. *(25 pts.)*"
   ]
  },
  {
   "cell_type": "code",
   "execution_count": 1,
   "metadata": {
    "id": "hMqWOsbIMoUh"
   },
   "outputs": [],
   "source": [
    "import numpy as np\n",
    "import matplotlib.pyplot as plt\n",
    "import random\n",
    "import scipy"
   ]
  },
  {
   "cell_type": "code",
   "execution_count": 2,
   "metadata": {},
   "outputs": [],
   "source": [
    "from numpy import ones, zeros, dot, roll, copy\n",
    "from random import random, randrange\n",
    "from scipy.ndimage import convolve, generate_binary_structure"
   ]
  },
  {
   "cell_type": "code",
   "execution_count": 3,
   "metadata": {},
   "outputs": [
    {
     "name": "stdout",
     "output_type": "stream",
     "text": [
      "[[ 1 -1 -1 -1 -1 -1  1 -1  1  1  1  1  1 -1 -1  1  1 -1  1  1]\n",
      " [ 1 -1 -1 -1 -1 -1 -1 -1  1 -1  1 -1 -1  1  1  1 -1  1 -1  1]\n",
      " [ 1  1  1 -1 -1 -1 -1  1 -1  1 -1 -1  1  1  1  1  1 -1  1  1]\n",
      " [-1  1  1  1  1  1  1  1 -1 -1 -1 -1 -1 -1  1 -1 -1  1  1 -1]\n",
      " [-1 -1  1 -1  1 -1 -1 -1 -1 -1  1  1 -1  1  1 -1 -1  1  1 -1]\n",
      " [ 1 -1  1 -1 -1 -1 -1 -1  1  1 -1 -1 -1  1 -1 -1  1 -1  1  1]\n",
      " [-1 -1 -1  1 -1 -1 -1 -1  1  1 -1 -1 -1 -1 -1 -1 -1  1 -1 -1]\n",
      " [-1 -1 -1  1 -1 -1 -1 -1  1 -1  1  1  1  1  1 -1  1 -1 -1  1]\n",
      " [-1 -1  1 -1 -1  1 -1  1  1 -1  1 -1  1 -1  1 -1 -1 -1  1  1]\n",
      " [-1  1 -1  1  1 -1 -1 -1 -1 -1 -1  1  1  1  1  1  1  1 -1 -1]\n",
      " [-1  1  1 -1  1  1 -1  1 -1  1  1  1  1  1  1  1 -1 -1  1  1]\n",
      " [ 1  1  1 -1 -1  1 -1 -1  1  1  1  1  1 -1  1  1  1  1  1  1]\n",
      " [-1 -1 -1  1  1  1 -1 -1  1  1 -1 -1  1 -1  1  1 -1  1 -1  1]\n",
      " [-1  1 -1  1  1 -1  1  1  1  1  1  1  1 -1 -1 -1 -1  1 -1 -1]\n",
      " [-1 -1 -1  1  1 -1 -1 -1  1 -1  1 -1 -1  1 -1 -1  1  1 -1 -1]\n",
      " [-1  1  1 -1  1 -1  1 -1  1  1  1  1  1  1 -1 -1  1 -1  1 -1]\n",
      " [ 1 -1  1 -1 -1  1  1  1  1  1  1 -1 -1  1 -1 -1 -1 -1  1  1]\n",
      " [-1 -1  1 -1  1 -1  1 -1 -1  1  1  1 -1  1 -1 -1 -1  1  1 -1]\n",
      " [ 1  1  1 -1 -1  1  1 -1 -1  1 -1 -1 -1  1  1  1 -1  1 -1 -1]\n",
      " [-1  1  1  1 -1  1 -1  1  1  1  1  1  1  1 -1  1  1  1  1  1]]\n"
     ]
    },
    {
     "data": {
      "text/plain": [
       "<matplotlib.image.AxesImage at 0x1cddb7a4ad0>"
      ]
     },
     "execution_count": 3,
     "metadata": {},
     "output_type": "execute_result"
    },
    {
     "data": {
      "image/png": "[encoded data removed]",
      "text/plain": [
       "<Figure size 640x480 with 1 Axes>"
      ]
     },
     "metadata": {},
     "output_type": "display_data"
    }
   ],
   "source": [
    "def lattice(T):\n",
    "    i_random = np.random.random((T,T))\n",
    "    lattice_n = zeros((T,T),int)\n",
    "    for i in range(T):\n",
    "        for j in range(T):\n",
    "            if i_random[i,j] >= 0.50:\n",
    "                lattice_n[i,j] = 1\n",
    "            else:\n",
    "                lattice_n[i,j] = -1\n",
    "    return lattice_n\n",
    "\n",
    "# Example\n",
    "print(lattice(20))\n",
    "\n",
    "# for this problem\n",
    "L = lattice(20)\n",
    "plt.imshow(L)"
   ]
  },
  {
   "cell_type": "code",
   "execution_count": 4,
   "metadata": {},
   "outputs": [],
   "source": [
    "steps = 10000        # steps, as required this must be equal to 1e6\n",
    "# Metropolis-style\n",
    "J = 1\n",
    "T = 1            # Temperature\n",
    "kb = 1           # Boltzmann constant"
   ]
  },
  {
   "cell_type": "markdown",
   "metadata": {},
   "source": [
    "We define the Total Energy, E where it can be interpreted as the sum of all dot products between the original lattice and the displaced/shifted (by a row/column) lattice from four different directions."
   ]
  },
  {
   "cell_type": "code",
   "execution_count": 5,
   "metadata": {
    "scrolled": false
   },
   "outputs": [
    {
     "name": "stdout",
     "output_type": "stream",
     "text": [
      "-188\n",
      "CPU times: total: 0 ns\n",
      "Wall time: 990 µs\n"
     ]
    }
   ],
   "source": [
    "%%time\n",
    "\n",
    "def E(lattice):\n",
    "    l_copy = copy(lattice)   \n",
    "        \n",
    "    # shift to left\n",
    "    l_left = np.roll(l_copy,1)\n",
    "    l_left[:,0] = 0\n",
    "    Ld_left = np.dot(l_copy, l_left)\n",
    "\n",
    "    # shift to right\n",
    "    l_right = np.roll(l_copy,-1)\n",
    "    l_right[:,-1] = 0\n",
    "    Ld_right = np.dot(l_copy, l_right)\n",
    "\n",
    "    # shift up\n",
    "    l_up = np.roll(l_copy,-1, axis = 0)\n",
    "    l_up[-1,:] = 0\n",
    "    Ld_up = np.dot(l_copy, l_up)\n",
    "\n",
    "    # shift down\n",
    "    l_down = np.roll(l_copy, 1, axis = 0)\n",
    "    l_down[0, :] = 0\n",
    "    Ld_down = np.dot(l_copy, l_down)\n",
    "\n",
    "    I_left = np.dot(l_copy, l_left)\n",
    "    I = np.sum(Ld_left + Ld_right + Ld_up + Ld_down)\n",
    "    return -I*J\n",
    "\n",
    "print(E(L))\n"
   ]
  },
  {
   "cell_type": "code",
   "execution_count": 6,
   "metadata": {},
   "outputs": [
    {
     "ename": "NameError",
     "evalue": "name 'N' is not defined",
     "output_type": "error",
     "traceback": [
      "\u001b[1;31m---------------------------------------------------------------------------\u001b[0m",
      "\u001b[1;31mNameError\u001b[0m                                 Traceback (most recent call last)",
      "Cell \u001b[1;32mIn[6], line 3\u001b[0m\n\u001b[0;32m      1\u001b[0m \u001b[38;5;66;03m# Choose random array\u001b[39;00m\n\u001b[1;32m----> 3\u001b[0m x \u001b[38;5;241m=\u001b[39m np\u001b[38;5;241m.\u001b[39mrandom\u001b[38;5;241m.\u001b[39mrandint(\u001b[38;5;241m0\u001b[39m,N)\n\u001b[0;32m      4\u001b[0m y \u001b[38;5;241m=\u001b[39m np\u001b[38;5;241m.\u001b[39mrandom\u001b[38;5;241m.\u001b[39mrandint(\u001b[38;5;241m0\u001b[39m,N)\n\u001b[0;32m      5\u001b[0m spin_i \u001b[38;5;241m=\u001b[39m L[x,y]\n",
      "\u001b[1;31mNameError\u001b[0m: name 'N' is not defined"
     ]
    }
   ],
   "source": [
    "# Choose random array\n",
    "\n",
    "x = np.random.randint(0,N)\n",
    "y = np.random.randint(0,N)\n",
    "spin_i = L[x,y]\n",
    "spin_f = (-1) * spin_i\n"
   ]
  },
  {
   "cell_type": "code",
   "execution_count": null,
   "metadata": {},
   "outputs": [],
   "source": [
    "# Magnetization\n",
    "def M(lattice):\n",
    "    return np.sum(lattice)\n",
    "\n"
   ]
  },
  {
   "cell_type": "code",
   "execution_count": null,
   "metadata": {},
   "outputs": [],
   "source": [
    "def metropolis(spin_arr, times, BJ, energy):\n",
    "    spin_arr = spin.arr.copy()\n",
    "    net_spins = np.zeros(times-1)\n",
    "    net_energy = np.zeros(times-1)\n",
    "    for t in range(0,times-1):\n",
    "        x = np.random.randint(0,N)\n",
    "        y = np.random.randint(0,N)\n",
    "        spin_i = spin_arr[x,y]\n",
    "        spin_f = spin_i*-1\n",
    "        \n",
    "        E_i = 0\n",
    "        E_f = 0\n",
    "        if x>0:\n",
    "            E_i += -spin_i*spin_arr[x-1,y]\n",
    "            E_f += -spin_f*spin_arr[x-1,y]\n",
    "        if x<N-1:\n",
    "            "
   ]
  },
  {
   "cell_type": "code",
   "execution_count": null,
   "metadata": {},
   "outputs": [],
   "source": [
    "# Metropolis-style simulaion\n",
    "\n",
    "N = 10000        # steps, as required this must be equal to 1e6\n",
    "# Metropolis-style\n",
    "J = 1\n",
    "T = 1            # Temperature\n",
    "kb = 1           # Boltzmann constant\n",
    "\n",
    "# Function to calculate the total energy of the system\n",
    "def E():\n",
    "    \n",
    "# Magnetization M\n",
    "def M():\n",
    "\n",
    "# Plot of magnetization as a function of time"
   ]
  },
  {
   "cell_type": "code",
   "execution_count": null,
   "metadata": {},
   "outputs": [],
   "source": []
  }
 ],
 "metadata": {
  "colab": {
   "provenance": [
    {
     "file_id": "1FJlZnhC4nq-8ag5P6s8R5x9AryccJwSV",
     "timestamp": 1598775074680
    }
   ]
  },
  "kernelspec": {
   "display_name": "Python 3 (ipykernel)",
   "language": "python",
   "name": "python3"
  },
  "language_info": {
   "codemirror_mode": {
    "name": "ipython",
    "version": 3
   },
   "file_extension": ".py",
   "mimetype": "text/x-python",
   "name": "python",
   "nbconvert_exporter": "python",
   "pygments_lexer": "ipython3",
   "version": "3.11.4"
  }
 },
 "nbformat": 4,
 "nbformat_minor": 1
}
